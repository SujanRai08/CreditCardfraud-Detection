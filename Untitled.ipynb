{
 "cells": [
  {
   "cell_type": "markdown",
   "id": "98fa0c39-3edd-4751-a5fd-e2895fc1463d",
   "metadata": {},
   "source": [
    "# About Datasets\n",
    "\n",
    "# Context\n",
    "Having card transaction in companies which are able to recognize the fraud credit transaction are very important in update technology nowday. Customers want a secure transaction for not falling into any scamms.\n"
   ]
  },
  {
   "cell_type": "code",
   "execution_count": null,
   "id": "94a26727-b69d-4048-990b-db35708bf2ec",
   "metadata": {},
   "outputs": [],
   "source": [
    "import pandas as pd\n",
    "import numpy as np\n",
    "import seaborn as sns\n",
    "import matplotlib.pyplot as plt\n",
    "%matplotlib inline"
   ]
  },
  {
   "cell_type": "code",
   "execution_count": null,
   "id": "89dd1de6-6325-4aa4-85b8-d9e732257266",
   "metadata": {},
   "outputs": [],
   "source": [
    "datasets = pd.read_csv('creditcard.csv')\n",
    "datasets"
   ]
  },
  {
   "cell_type": "code",
   "execution_count": null,
   "id": "6c699379-227d-4f6c-8608-397af19e9d54",
   "metadata": {},
   "outputs": [],
   "source": [
    "datasets.info()"
   ]
  },
  {
   "cell_type": "code",
   "execution_count": null,
   "id": "6648f9fb-cde5-4abf-93d3-5b10a1d864f9",
   "metadata": {},
   "outputs": [],
   "source": [
    "datasets.describe()"
   ]
  },
  {
   "cell_type": "code",
   "execution_count": null,
   "id": "ee4cd4ca-be14-4f5e-995c-6914590e02b5",
   "metadata": {},
   "outputs": [],
   "source": [
    "datasets['Class'].unique()"
   ]
  },
  {
   "cell_type": "code",
   "execution_count": null,
   "id": "7cb8fdc9-2d96-48e1-851c-ff7d829fd426",
   "metadata": {},
   "outputs": [],
   "source": [
    "datasets['Class'].value_counts()"
   ]
  },
  {
   "cell_type": "code",
   "execution_count": null,
   "id": "65bb36e7-52ee-4875-935d-0b19d66227dc",
   "metadata": {},
   "outputs": [],
   "source": [
    "datasets['Amount'].value_counts()"
   ]
  },
  {
   "cell_type": "code",
   "execution_count": null,
   "id": "7c47caf6-6419-452a-8292-aa1b51677479",
   "metadata": {},
   "outputs": [],
   "source": [
    "datasets.columns"
   ]
  },
  {
   "cell_type": "code",
   "execution_count": null,
   "id": "35d6fd76-2b5e-4140-951d-b548dd653d43",
   "metadata": {},
   "outputs": [],
   "source": [
    "datasets['Time'].describe()"
   ]
  },
  {
   "cell_type": "code",
   "execution_count": null,
   "id": "4fa19857-e164-4532-b009-806785b81070",
   "metadata": {},
   "outputs": [],
   "source": [
    "datasets['Amount'].describe()"
   ]
  },
  {
   "cell_type": "code",
   "execution_count": null,
   "id": "d1678df9-1e6f-4eca-bbd4-5b597f22cab9",
   "metadata": {},
   "outputs": [],
   "source": [
    "datasets['Time'].describe()"
   ]
  },
  {
   "cell_type": "code",
   "execution_count": null,
   "id": "58623853-3479-4083-98f4-a5b338bde671",
   "metadata": {},
   "outputs": [],
   "source": [
    "plt.figure(figsize=(30,20))\n",
    "sns.heatmap(datasets.corr(), cmap='coolwarm', annot=True, fmt=\".2f\")\n",
    "plt.show()"
   ]
  },
  {
   "cell_type": "code",
   "execution_count": null,
   "id": "048bdc6a-9ba6-466f-9f8f-5ce0391fb0d4",
   "metadata": {},
   "outputs": [],
   "source": [
    "corr_matrix = datasets.corr()"
   ]
  },
  {
   "cell_type": "code",
   "execution_count": null,
   "id": "720a3e13-61e2-43ad-a49d-601a4359d64b",
   "metadata": {},
   "outputs": [],
   "source": [
    "corr_matrix"
   ]
  },
  {
   "cell_type": "code",
   "execution_count": null,
   "id": "21f28cdd-12dc-443a-8de2-c0faff9f803b",
   "metadata": {},
   "outputs": [],
   "source": [
    "#getting columns with the correlation less than th threshold which is 0.13\n",
    "low_corr_cols = [col for col in corr_matrix.columns if all(abs(corr_matrix[col]) < 0.13)]"
   ]
  },
  {
   "cell_type": "code",
   "execution_count": null,
   "id": "f407cf4d-9e1f-4519-a61b-102e4d93d52a",
   "metadata": {},
   "outputs": [],
   "source": [
    "datasets.drop(columns=low_corr_cols, inplace=True)"
   ]
  },
  {
   "cell_type": "code",
   "execution_count": null,
   "id": "dd791622-fc1b-423b-8fb8-008852ed24a6",
   "metadata": {},
   "outputs": [],
   "source": []
  },
  {
   "cell_type": "code",
   "execution_count": null,
   "id": "94c85345-bdfc-42cb-ab65-6350ebe4f1e0",
   "metadata": {},
   "outputs": [],
   "source": [
    "plt.figure(figsize=(30,20))\n",
    "sns.heatmap(datasets.corr(), cmap='coolwarm', annot=True, fmt=\".2f\")\n",
    "plt.show()"
   ]
  },
  {
   "cell_type": "code",
   "execution_count": null,
   "id": "0513ce9b-ebf4-4c86-b595-a026eeedd590",
   "metadata": {},
   "outputs": [],
   "source": [
    "plt.figure(figsize=(15, 6))\n",
    "ax = sns.heatmap(\n",
    "    datasets.corr(),\n",
    "    cmap='coolwarm',\n",
    "    annot=True,\n",
    "    fmt='.2f',\n",
    "    annot_kws={\"size\": 10},  # Adjust annotation text size\n",
    "    linewidths=0.5,  # Add lines between squares for better separation\n",
    "    linecolor='black'  # Set the color of the lines\n",
    ")\n",
    "ax.set_title('Correlation Heatmap of Modified DataFrame', fontsize=16)\n",
    "plt.xticks(fontsize=12)\n",
    "plt.yticks(fontsize=12)\n",
    "plt.show()"
   ]
  },
  {
   "cell_type": "code",
   "execution_count": null,
   "id": "54768f1d-9ec9-4c05-ac53-9197d5b29ee7",
   "metadata": {},
   "outputs": [],
   "source": [
    "fig, ax = plt.subplots(3, 3, figsize=(20, 20))\n",
    "ax = ax.flatten()\n",
    "fig.suptitle('Box Plot to Check for Outliers', fontsize=24)\n",
    "for i, column in enumerate(datasets.columns):\n",
    "    if i >= 9:\n",
    "        break\n",
    "    sns.boxplot(data=datasets, x=column, ax=ax[i])\n",
    "    ax[i].set_title(column, fontsize=18) \n",
    "    ax[i].set_xlabel('') \n",
    "\n",
    "# Adjust layout for better spacing\n",
    "plt.tight_layout(rect=[0, 0, 1, 0.95])\n",
    "plt.show()"
   ]
  },
  {
   "cell_type": "code",
   "execution_count": null,
   "id": "5be0c139-3d2f-4106-956c-861a851bf6f5",
   "metadata": {},
   "outputs": [],
   "source": [
    "X = datasets.drop('Class', axis=1)\n",
    "y = datasets['Class']"
   ]
  },
  {
   "cell_type": "code",
   "execution_count": null,
   "id": "29dc71d9-703d-4608-804f-6dbbff491a8f",
   "metadata": {},
   "outputs": [],
   "source": [
    "from sklearn.model_selection import train_test_split\n",
    "X_train, X_test, y_train, y_test = train_test_split(X, y, test_size=0.2, stratify=y, random_state=42)"
   ]
  },
  {
   "cell_type": "code",
   "execution_count": null,
   "id": "f1a8380f-c847-4d9d-994f-10331cdbb312",
   "metadata": {},
   "outputs": [],
   "source": [
    "print(X_train.shape)\n",
    "print(X_test.shape)"
   ]
  },
  {
   "cell_type": "code",
   "execution_count": null,
   "id": "a4708fca-1541-4d67-a26e-c13703117e83",
   "metadata": {},
   "outputs": [],
   "source": [
    "from sklearn.preprocessing import StandardScaler, MinMaxScaler\n",
    "scaler = StandardScaler()\n",
    "X_train_scaled = scaler.fit_transform(X_train)\n",
    "X_test_scaled = scaler.transform(X_test)\n",
    "X_train_scaled"
   ]
  },
  {
   "cell_type": "code",
   "execution_count": null,
   "id": "7644aa24-814d-46dc-b0b6-10c9ed44481a",
   "metadata": {},
   "outputs": [],
   "source": [
    "from sklearn.ensemble import RandomForestClassifier\n",
    "from sklearn.metrics import classification_report, confusion_matrix"
   ]
  },
  {
   "cell_type": "code",
   "execution_count": null,
   "id": "752e457f-b0f7-40c0-bb4a-68357f8bca41",
   "metadata": {},
   "outputs": [],
   "source": [
    "model = RandomForestClassifier(random_state=0)\n",
    "model.fit(X_train_scaled, y_train)"
   ]
  },
  {
   "cell_type": "code",
   "execution_count": null,
   "id": "3be9bba0-193b-47df-a8b8-42108390522a",
   "metadata": {},
   "outputs": [],
   "source": [
    "#undersampling \n",
    "from collections import Counter\n",
    "print(f'Original class distribution in y_train: {Counter(y_train)}')"
   ]
  },
  {
   "cell_type": "code",
   "execution_count": null,
   "id": "7322d384-f292-404e-ad64-6b8b61b7cd2d",
   "metadata": {},
   "outputs": [],
   "source": [
    "from imblearn.under_sampling import RandomUnderSampler\n",
    "undersampler = RandomUnderSampler(random_state=42)\n",
    "X_train_resampled, y_train_resampled = undersampler.fit_resample(X_train, y_train)"
   ]
  },
  {
   "cell_type": "code",
   "execution_count": null,
   "id": "d0d05a22-ca66-46df-9f0d-143da9ad932c",
   "metadata": {},
   "outputs": [],
   "source": [
    "print(f'Class distribution after undersampling: {Counter(y_train_resampled)}')"
   ]
  },
  {
   "cell_type": "code",
   "execution_count": null,
   "id": "5fdbbea5-5516-4a81-b6ea-800ba1a6ffb9",
   "metadata": {},
   "outputs": [],
   "source": [
    "model.fit(X_train_resampled, y_train_resampled)\n",
    "y_pred = model.predict(X_test_scaled)"
   ]
  },
  {
   "cell_type": "code",
   "execution_count": null,
   "id": "55383a59-061e-4f69-b49c-91a6788dae20",
   "metadata": {},
   "outputs": [],
   "source": [
    "from sklearn.preprocessing import PolynomialFeatures\n",
    "\n",
    "poly = PolynomialFeatures(degree=2, include_bias=False)\n",
    "X_poly = poly.fit_transform(X_train_scaled)"
   ]
  },
  {
   "cell_type": "code",
   "execution_count": null,
   "id": "c581a0ac-8dd9-4771-a277-e215bb3be89b",
   "metadata": {},
   "outputs": [],
   "source": [
    "#Generate new features based on existing ones, such as combining columns or creating new metrics\n",
    "datasets['Amount_per_Time'] = datasets['Amount'] / (datasets['Time'] + 1)"
   ]
  },
  {
   "cell_type": "code",
   "execution_count": null,
   "id": "f28926cf-7be7-4ff6-a456-433fa5d6d7bb",
   "metadata": {},
   "outputs": [],
   "source": [
    "#Apply log transformation to handle skewed data\n",
    "datasets['Log_Amount'] = np.log1p(datasets['Amount'])"
   ]
  },
  {
   "cell_type": "code",
   "execution_count": null,
   "id": "4c7282b4-21b9-4c68-aa9f-dadbfafdd8a3",
   "metadata": {},
   "outputs": [],
   "source": [
    "#Create new features by multiplying correlated columns and then assess their importance\n",
    "datasets['V1_V2'] = datasets['V1'] * datasets['V2']\n",
    "datasets['V3_V4'] = datasets['V3'] * datasets['V4']"
   ]
  },
  {
   "cell_type": "code",
   "execution_count": null,
   "id": "8a505255-4acf-4af1-bed9-167814714bb9",
   "metadata": {},
   "outputs": [],
   "source": [
    "#After creating new features, you may want to drop features that are no longer important or redundant.\n",
    "datasets.drop(columns=['V1', 'V2'], inplace=True)"
   ]
  },
  {
   "cell_type": "code",
   "execution_count": null,
   "id": "d7755426-9499-4c36-b993-22eccec67e66",
   "metadata": {},
   "outputs": [],
   "source": [
    "importances = model.feature_importances_\n",
    "important_features = [feature for feature, importance in zip(X.columns, importances) if importance > 0.01]\n",
    "X_important = X[important_features]"
   ]
  },
  {
   "cell_type": "code",
   "execution_count": null,
   "id": "910698e0-fedc-4fe6-8ecc-628eaaf4ee67",
   "metadata": {},
   "outputs": [],
   "source": [
    "from sklearn.model_selection import GridSearchCV\n",
    "\n",
    "param_grid = {\n",
    "    'n_estimators': [100, 200],\n",
    "    'max_depth': [10, 20]\n",
    "}\n",
    "grid_search = GridSearchCV(estimator=RandomForestClassifier(random_state=0), param_grid=param_grid, cv=3)\n",
    "grid_search.fit(X_train_resampled, y_train_resampled)\n",
    "best_model = grid_search.best_estimator_"
   ]
  },
  {
   "cell_type": "code",
   "execution_count": null,
   "id": "04991e4e-8936-4c17-b038-e092634fa06d",
   "metadata": {},
   "outputs": [],
   "source": [
    "prediction = model.predict(X_test_scaled)"
   ]
  },
  {
   "cell_type": "code",
   "execution_count": null,
   "id": "2f2488d7-f53c-465c-934f-503e198a08cc",
   "metadata": {},
   "outputs": [],
   "source": []
  },
  {
   "cell_type": "code",
   "execution_count": null,
   "id": "60660e21-2b18-46c8-bbdb-ae9b7160ff1d",
   "metadata": {},
   "outputs": [],
   "source": []
  }
 ],
 "metadata": {
  "kernelspec": {
   "display_name": "Python 3 (ipykernel)",
   "language": "python",
   "name": "python3"
  },
  "language_info": {
   "codemirror_mode": {
    "name": "ipython",
    "version": 3
   },
   "file_extension": ".py",
   "mimetype": "text/x-python",
   "name": "python",
   "nbconvert_exporter": "python",
   "pygments_lexer": "ipython3",
   "version": "3.12.0"
  }
 },
 "nbformat": 4,
 "nbformat_minor": 5
}
